{
  "cells": [
    {
      "cell_type": "markdown",
      "id": "98fb3708-81f1-4b24-a550-6f26459eb673",
      "metadata": {
        "id": "98fb3708-81f1-4b24-a550-6f26459eb673"
      },
      "source": [
        "### Importing library"
      ]
    },
    {
      "cell_type": "code",
      "execution_count": 101,
      "id": "50431e7a-5621-4537-8ee3-ad4f0f224a1f",
      "metadata": {
        "id": "50431e7a-5621-4537-8ee3-ad4f0f224a1f"
      },
      "outputs": [],
      "source": [
        "import pandas as pd\n",
        "import matplotlib.pyplot as plt"
      ]
    },
    {
      "cell_type": "code",
      "execution_count": 102,
      "id": "e47e8f2a-fdda-4cdf-845c-783fd14bf16f",
      "metadata": {
        "colab": {
          "base_uri": "https://localhost:8080/",
          "height": 225
        },
        "id": "e47e8f2a-fdda-4cdf-845c-783fd14bf16f",
        "outputId": "7ae902cd-80f0-4bea-acbe-939802cfa5f0"
      },
      "outputs": [
        {
          "output_type": "stream",
          "name": "stdout",
          "text": [
            "(100000, 16)\n"
          ]
        },
        {
          "output_type": "execute_result",
          "data": {
            "text/plain": [
              "   ID  Job Title     Full Name Gender  Age Origin Country Current Country  \\\n",
              "0   1      Clerk  Maya Emerson      F   32        Liberia           Niger   \n",
              "1   2  Physician    Kurt Uddin      M   37           Iran           Gabon   \n",
              "\n",
              "  Search Engine From        Account Created  Product Name   Color      Size  \\\n",
              "0          DuckDuckGo  2018-06-18 15:38:49Z  EMEL Fashion  Auburn  One Size   \n",
              "1               Baidu  2019-04-18 18:24:54Z      Rip Curl   Brown         L   \n",
              "\n",
              "   Quantity  Unit Cost   Sales Price             Order Date  \n",
              "0         4     $11.94        $25.14   2020-09-21 19:08:01Z  \n",
              "1         2     $11.33        $20.97   2021-08-12 03:51:39Z  "
            ],
            "text/html": [
              "\n",
              "  <div id=\"df-e4b6ff70-f81f-4298-85b6-acc9ba825d1f\">\n",
              "    <div class=\"colab-df-container\">\n",
              "      <div>\n",
              "<style scoped>\n",
              "    .dataframe tbody tr th:only-of-type {\n",
              "        vertical-align: middle;\n",
              "    }\n",
              "\n",
              "    .dataframe tbody tr th {\n",
              "        vertical-align: top;\n",
              "    }\n",
              "\n",
              "    .dataframe thead th {\n",
              "        text-align: right;\n",
              "    }\n",
              "</style>\n",
              "<table border=\"1\" class=\"dataframe\">\n",
              "  <thead>\n",
              "    <tr style=\"text-align: right;\">\n",
              "      <th></th>\n",
              "      <th>ID</th>\n",
              "      <th>Job Title</th>\n",
              "      <th>Full Name</th>\n",
              "      <th>Gender</th>\n",
              "      <th>Age</th>\n",
              "      <th>Origin Country</th>\n",
              "      <th>Current Country</th>\n",
              "      <th>Search Engine From</th>\n",
              "      <th>Account Created</th>\n",
              "      <th>Product Name</th>\n",
              "      <th>Color</th>\n",
              "      <th>Size</th>\n",
              "      <th>Quantity</th>\n",
              "      <th>Unit Cost</th>\n",
              "      <th>Sales Price</th>\n",
              "      <th>Order Date</th>\n",
              "    </tr>\n",
              "  </thead>\n",
              "  <tbody>\n",
              "    <tr>\n",
              "      <th>0</th>\n",
              "      <td>1</td>\n",
              "      <td>Clerk</td>\n",
              "      <td>Maya Emerson</td>\n",
              "      <td>F</td>\n",
              "      <td>32</td>\n",
              "      <td>Liberia</td>\n",
              "      <td>Niger</td>\n",
              "      <td>DuckDuckGo</td>\n",
              "      <td>2018-06-18 15:38:49Z</td>\n",
              "      <td>EMEL Fashion</td>\n",
              "      <td>Auburn</td>\n",
              "      <td>One Size</td>\n",
              "      <td>4</td>\n",
              "      <td>$11.94</td>\n",
              "      <td>$25.14</td>\n",
              "      <td>2020-09-21 19:08:01Z</td>\n",
              "    </tr>\n",
              "    <tr>\n",
              "      <th>1</th>\n",
              "      <td>2</td>\n",
              "      <td>Physician</td>\n",
              "      <td>Kurt Uddin</td>\n",
              "      <td>M</td>\n",
              "      <td>37</td>\n",
              "      <td>Iran</td>\n",
              "      <td>Gabon</td>\n",
              "      <td>Baidu</td>\n",
              "      <td>2019-04-18 18:24:54Z</td>\n",
              "      <td>Rip Curl</td>\n",
              "      <td>Brown</td>\n",
              "      <td>L</td>\n",
              "      <td>2</td>\n",
              "      <td>$11.33</td>\n",
              "      <td>$20.97</td>\n",
              "      <td>2021-08-12 03:51:39Z</td>\n",
              "    </tr>\n",
              "  </tbody>\n",
              "</table>\n",
              "</div>\n",
              "      <button class=\"colab-df-convert\" onclick=\"convertToInteractive('df-e4b6ff70-f81f-4298-85b6-acc9ba825d1f')\"\n",
              "              title=\"Convert this dataframe to an interactive table.\"\n",
              "              style=\"display:none;\">\n",
              "        \n",
              "  <svg xmlns=\"http://www.w3.org/2000/svg\" height=\"24px\"viewBox=\"0 0 24 24\"\n",
              "       width=\"24px\">\n",
              "    <path d=\"M0 0h24v24H0V0z\" fill=\"none\"/>\n",
              "    <path d=\"M18.56 5.44l.94 2.06.94-2.06 2.06-.94-2.06-.94-.94-2.06-.94 2.06-2.06.94zm-11 1L8.5 8.5l.94-2.06 2.06-.94-2.06-.94L8.5 2.5l-.94 2.06-2.06.94zm10 10l.94 2.06.94-2.06 2.06-.94-2.06-.94-.94-2.06-.94 2.06-2.06.94z\"/><path d=\"M17.41 7.96l-1.37-1.37c-.4-.4-.92-.59-1.43-.59-.52 0-1.04.2-1.43.59L10.3 9.45l-7.72 7.72c-.78.78-.78 2.05 0 2.83L4 21.41c.39.39.9.59 1.41.59.51 0 1.02-.2 1.41-.59l7.78-7.78 2.81-2.81c.8-.78.8-2.07 0-2.86zM5.41 20L4 18.59l7.72-7.72 1.47 1.35L5.41 20z\"/>\n",
              "  </svg>\n",
              "      </button>\n",
              "      \n",
              "  <style>\n",
              "    .colab-df-container {\n",
              "      display:flex;\n",
              "      flex-wrap:wrap;\n",
              "      gap: 12px;\n",
              "    }\n",
              "\n",
              "    .colab-df-convert {\n",
              "      background-color: #E8F0FE;\n",
              "      border: none;\n",
              "      border-radius: 50%;\n",
              "      cursor: pointer;\n",
              "      display: none;\n",
              "      fill: #1967D2;\n",
              "      height: 32px;\n",
              "      padding: 0 0 0 0;\n",
              "      width: 32px;\n",
              "    }\n",
              "\n",
              "    .colab-df-convert:hover {\n",
              "      background-color: #E2EBFA;\n",
              "      box-shadow: 0px 1px 2px rgba(60, 64, 67, 0.3), 0px 1px 3px 1px rgba(60, 64, 67, 0.15);\n",
              "      fill: #174EA6;\n",
              "    }\n",
              "\n",
              "    [theme=dark] .colab-df-convert {\n",
              "      background-color: #3B4455;\n",
              "      fill: #D2E3FC;\n",
              "    }\n",
              "\n",
              "    [theme=dark] .colab-df-convert:hover {\n",
              "      background-color: #434B5C;\n",
              "      box-shadow: 0px 1px 3px 1px rgba(0, 0, 0, 0.15);\n",
              "      filter: drop-shadow(0px 1px 2px rgba(0, 0, 0, 0.3));\n",
              "      fill: #FFFFFF;\n",
              "    }\n",
              "  </style>\n",
              "\n",
              "      <script>\n",
              "        const buttonEl =\n",
              "          document.querySelector('#df-e4b6ff70-f81f-4298-85b6-acc9ba825d1f button.colab-df-convert');\n",
              "        buttonEl.style.display =\n",
              "          google.colab.kernel.accessAllowed ? 'block' : 'none';\n",
              "\n",
              "        async function convertToInteractive(key) {\n",
              "          const element = document.querySelector('#df-e4b6ff70-f81f-4298-85b6-acc9ba825d1f');\n",
              "          const dataTable =\n",
              "            await google.colab.kernel.invokeFunction('convertToInteractive',\n",
              "                                                     [key], {});\n",
              "          if (!dataTable) return;\n",
              "\n",
              "          const docLinkHtml = 'Like what you see? Visit the ' +\n",
              "            '<a target=\"_blank\" href=https://colab.research.google.com/notebooks/data_table.ipynb>data table notebook</a>'\n",
              "            + ' to learn more about interactive tables.';\n",
              "          element.innerHTML = '';\n",
              "          dataTable['output_type'] = 'display_data';\n",
              "          await google.colab.output.renderOutput(dataTable, element);\n",
              "          const docLink = document.createElement('div');\n",
              "          docLink.innerHTML = docLinkHtml;\n",
              "          element.appendChild(docLink);\n",
              "        }\n",
              "      </script>\n",
              "    </div>\n",
              "  </div>\n",
              "  "
            ]
          },
          "metadata": {},
          "execution_count": 102
        }
      ],
      "source": [
        "df = pd.read_csv('sample_sales_data3.csv')\n",
        "print(df.shape)\n",
        "df.head(2)"
      ]
    },
    {
      "cell_type": "markdown",
      "id": "76da09b2-6025-478a-b04a-a5884ee007a8",
      "metadata": {
        "id": "76da09b2-6025-478a-b04a-a5884ee007a8"
      },
      "source": [
        "### Calculating profit"
      ]
    },
    {
      "cell_type": "markdown",
      "id": "98f896ad-250c-4885-9fd5-d4e0da786143",
      "metadata": {
        "id": "98f896ad-250c-4885-9fd5-d4e0da786143"
      },
      "source": [
        "Most entries have tailing white spaces"
      ]
    },
    {
      "cell_type": "code",
      "execution_count": 103,
      "id": "61bfae6a-1d76-44b2-9166-28c85ff426dd",
      "metadata": {
        "id": "61bfae6a-1d76-44b2-9166-28c85ff426dd"
      },
      "outputs": [],
      "source": [
        "df = df.applymap(lambda x: str(x).strip())"
      ]
    },
    {
      "cell_type": "markdown",
      "id": "c1eda77c-9971-472f-861f-fea4246f5d0f",
      "metadata": {
        "id": "c1eda77c-9971-472f-861f-fea4246f5d0f"
      },
      "source": [
        "Strip dollar sign and convert the values to float"
      ]
    },
    {
      "cell_type": "code",
      "execution_count": 104,
      "id": "4d06c408-8d21-4bc6-92de-ac9984da428b",
      "metadata": {
        "id": "4d06c408-8d21-4bc6-92de-ac9984da428b"
      },
      "outputs": [],
      "source": [
        "df['CP'] = df[' Unit Cost '].apply(lambda x: x.lstrip('$')).astype(float)\n",
        "df['SP'] = df[' Sales Price '].apply(lambda x: x.lstrip('$')).astype(float)\n",
        "\n",
        "df['Quantity'] = df['Quantity'].astype(int)"
      ]
    },
    {
      "cell_type": "code",
      "execution_count": 105,
      "id": "da656969-548b-4fa7-b701-c13134d9511d",
      "metadata": {
        "colab": {
          "base_uri": "https://localhost:8080/",
          "height": 280
        },
        "id": "da656969-548b-4fa7-b701-c13134d9511d",
        "outputId": "0fe77f5f-bca3-4623-d9ac-68b20eda10d5"
      },
      "outputs": [
        {
          "output_type": "execute_result",
          "data": {
            "text/plain": [
              "  ID  Job Title     Full Name Gender Age Origin Country Current Country  \\\n",
              "0  1      Clerk  Maya Emerson      F  32        Liberia           Niger   \n",
              "1  2  Physician    Kurt Uddin      M  37           Iran           Gabon   \n",
              "\n",
              "  Search Engine From        Account Created  Product Name   Color      Size  \\\n",
              "0          DuckDuckGo  2018-06-18 15:38:49Z  EMEL Fashion  Auburn  One Size   \n",
              "1               Baidu  2019-04-18 18:24:54Z      Rip Curl   Brown         L   \n",
              "\n",
              "   Quantity  Unit Cost   Sales Price             Order Date     CP     SP  \\\n",
              "0         4      $11.94        $25.14  2020-09-21 19:08:01Z  11.94  25.14   \n",
              "1         2      $11.33        $20.97  2021-08-12 03:51:39Z  11.33  20.97   \n",
              "\n",
              "   Profit  \n",
              "0   52.80  \n",
              "1   19.28  "
            ],
            "text/html": [
              "\n",
              "  <div id=\"df-186cc5c3-ed66-4444-a20c-9982c2332b6a\">\n",
              "    <div class=\"colab-df-container\">\n",
              "      <div>\n",
              "<style scoped>\n",
              "    .dataframe tbody tr th:only-of-type {\n",
              "        vertical-align: middle;\n",
              "    }\n",
              "\n",
              "    .dataframe tbody tr th {\n",
              "        vertical-align: top;\n",
              "    }\n",
              "\n",
              "    .dataframe thead th {\n",
              "        text-align: right;\n",
              "    }\n",
              "</style>\n",
              "<table border=\"1\" class=\"dataframe\">\n",
              "  <thead>\n",
              "    <tr style=\"text-align: right;\">\n",
              "      <th></th>\n",
              "      <th>ID</th>\n",
              "      <th>Job Title</th>\n",
              "      <th>Full Name</th>\n",
              "      <th>Gender</th>\n",
              "      <th>Age</th>\n",
              "      <th>Origin Country</th>\n",
              "      <th>Current Country</th>\n",
              "      <th>Search Engine From</th>\n",
              "      <th>Account Created</th>\n",
              "      <th>Product Name</th>\n",
              "      <th>Color</th>\n",
              "      <th>Size</th>\n",
              "      <th>Quantity</th>\n",
              "      <th>Unit Cost</th>\n",
              "      <th>Sales Price</th>\n",
              "      <th>Order Date</th>\n",
              "      <th>CP</th>\n",
              "      <th>SP</th>\n",
              "      <th>Profit</th>\n",
              "    </tr>\n",
              "  </thead>\n",
              "  <tbody>\n",
              "    <tr>\n",
              "      <th>0</th>\n",
              "      <td>1</td>\n",
              "      <td>Clerk</td>\n",
              "      <td>Maya Emerson</td>\n",
              "      <td>F</td>\n",
              "      <td>32</td>\n",
              "      <td>Liberia</td>\n",
              "      <td>Niger</td>\n",
              "      <td>DuckDuckGo</td>\n",
              "      <td>2018-06-18 15:38:49Z</td>\n",
              "      <td>EMEL Fashion</td>\n",
              "      <td>Auburn</td>\n",
              "      <td>One Size</td>\n",
              "      <td>4</td>\n",
              "      <td>$11.94</td>\n",
              "      <td>$25.14</td>\n",
              "      <td>2020-09-21 19:08:01Z</td>\n",
              "      <td>11.94</td>\n",
              "      <td>25.14</td>\n",
              "      <td>52.80</td>\n",
              "    </tr>\n",
              "    <tr>\n",
              "      <th>1</th>\n",
              "      <td>2</td>\n",
              "      <td>Physician</td>\n",
              "      <td>Kurt Uddin</td>\n",
              "      <td>M</td>\n",
              "      <td>37</td>\n",
              "      <td>Iran</td>\n",
              "      <td>Gabon</td>\n",
              "      <td>Baidu</td>\n",
              "      <td>2019-04-18 18:24:54Z</td>\n",
              "      <td>Rip Curl</td>\n",
              "      <td>Brown</td>\n",
              "      <td>L</td>\n",
              "      <td>2</td>\n",
              "      <td>$11.33</td>\n",
              "      <td>$20.97</td>\n",
              "      <td>2021-08-12 03:51:39Z</td>\n",
              "      <td>11.33</td>\n",
              "      <td>20.97</td>\n",
              "      <td>19.28</td>\n",
              "    </tr>\n",
              "  </tbody>\n",
              "</table>\n",
              "</div>\n",
              "      <button class=\"colab-df-convert\" onclick=\"convertToInteractive('df-186cc5c3-ed66-4444-a20c-9982c2332b6a')\"\n",
              "              title=\"Convert this dataframe to an interactive table.\"\n",
              "              style=\"display:none;\">\n",
              "        \n",
              "  <svg xmlns=\"http://www.w3.org/2000/svg\" height=\"24px\"viewBox=\"0 0 24 24\"\n",
              "       width=\"24px\">\n",
              "    <path d=\"M0 0h24v24H0V0z\" fill=\"none\"/>\n",
              "    <path d=\"M18.56 5.44l.94 2.06.94-2.06 2.06-.94-2.06-.94-.94-2.06-.94 2.06-2.06.94zm-11 1L8.5 8.5l.94-2.06 2.06-.94-2.06-.94L8.5 2.5l-.94 2.06-2.06.94zm10 10l.94 2.06.94-2.06 2.06-.94-2.06-.94-.94-2.06-.94 2.06-2.06.94z\"/><path d=\"M17.41 7.96l-1.37-1.37c-.4-.4-.92-.59-1.43-.59-.52 0-1.04.2-1.43.59L10.3 9.45l-7.72 7.72c-.78.78-.78 2.05 0 2.83L4 21.41c.39.39.9.59 1.41.59.51 0 1.02-.2 1.41-.59l7.78-7.78 2.81-2.81c.8-.78.8-2.07 0-2.86zM5.41 20L4 18.59l7.72-7.72 1.47 1.35L5.41 20z\"/>\n",
              "  </svg>\n",
              "      </button>\n",
              "      \n",
              "  <style>\n",
              "    .colab-df-container {\n",
              "      display:flex;\n",
              "      flex-wrap:wrap;\n",
              "      gap: 12px;\n",
              "    }\n",
              "\n",
              "    .colab-df-convert {\n",
              "      background-color: #E8F0FE;\n",
              "      border: none;\n",
              "      border-radius: 50%;\n",
              "      cursor: pointer;\n",
              "      display: none;\n",
              "      fill: #1967D2;\n",
              "      height: 32px;\n",
              "      padding: 0 0 0 0;\n",
              "      width: 32px;\n",
              "    }\n",
              "\n",
              "    .colab-df-convert:hover {\n",
              "      background-color: #E2EBFA;\n",
              "      box-shadow: 0px 1px 2px rgba(60, 64, 67, 0.3), 0px 1px 3px 1px rgba(60, 64, 67, 0.15);\n",
              "      fill: #174EA6;\n",
              "    }\n",
              "\n",
              "    [theme=dark] .colab-df-convert {\n",
              "      background-color: #3B4455;\n",
              "      fill: #D2E3FC;\n",
              "    }\n",
              "\n",
              "    [theme=dark] .colab-df-convert:hover {\n",
              "      background-color: #434B5C;\n",
              "      box-shadow: 0px 1px 3px 1px rgba(0, 0, 0, 0.15);\n",
              "      filter: drop-shadow(0px 1px 2px rgba(0, 0, 0, 0.3));\n",
              "      fill: #FFFFFF;\n",
              "    }\n",
              "  </style>\n",
              "\n",
              "      <script>\n",
              "        const buttonEl =\n",
              "          document.querySelector('#df-186cc5c3-ed66-4444-a20c-9982c2332b6a button.colab-df-convert');\n",
              "        buttonEl.style.display =\n",
              "          google.colab.kernel.accessAllowed ? 'block' : 'none';\n",
              "\n",
              "        async function convertToInteractive(key) {\n",
              "          const element = document.querySelector('#df-186cc5c3-ed66-4444-a20c-9982c2332b6a');\n",
              "          const dataTable =\n",
              "            await google.colab.kernel.invokeFunction('convertToInteractive',\n",
              "                                                     [key], {});\n",
              "          if (!dataTable) return;\n",
              "\n",
              "          const docLinkHtml = 'Like what you see? Visit the ' +\n",
              "            '<a target=\"_blank\" href=https://colab.research.google.com/notebooks/data_table.ipynb>data table notebook</a>'\n",
              "            + ' to learn more about interactive tables.';\n",
              "          element.innerHTML = '';\n",
              "          dataTable['output_type'] = 'display_data';\n",
              "          await google.colab.output.renderOutput(dataTable, element);\n",
              "          const docLink = document.createElement('div');\n",
              "          docLink.innerHTML = docLinkHtml;\n",
              "          element.appendChild(docLink);\n",
              "        }\n",
              "      </script>\n",
              "    </div>\n",
              "  </div>\n",
              "  "
            ]
          },
          "metadata": {},
          "execution_count": 105
        }
      ],
      "source": [
        "df['Profit'] = (df['SP'] - df['CP']) * df['Quantity']\n",
        "df.head(2)"
      ]
    },
    {
      "cell_type": "markdown",
      "id": "39ca6865-5af7-4f63-bc9d-0f82dce7cf99",
      "metadata": {
        "tags": [],
        "id": "39ca6865-5af7-4f63-bc9d-0f82dce7cf99"
      },
      "source": [
        "### Resampling the data"
      ]
    },
    {
      "cell_type": "markdown",
      "id": "925805be-a636-4f13-a8c3-3ca0bdf2ae35",
      "metadata": {
        "id": "925805be-a636-4f13-a8c3-3ca0bdf2ae35"
      },
      "source": [
        "predicting to monthly sales"
      ]
    },
    {
      "cell_type": "code",
      "execution_count": 106,
      "id": "2b76a40d-37fa-422c-9406-747d0186be06",
      "metadata": {
        "id": "2b76a40d-37fa-422c-9406-747d0186be06"
      },
      "outputs": [],
      "source": [
        "df['Order Date'] = pd.to_datetime(df['Order Date'])\n",
        "df['Order Date'] = df['Order Date'].dt.tz_localize(None)\n",
        "\n",
        "df.set_index('Order Date', inplace=True)"
      ]
    },
    {
      "cell_type": "code",
      "execution_count": 107,
      "id": "be719a5c-3662-4c2c-86d0-babd4f8f1553",
      "metadata": {
        "id": "be719a5c-3662-4c2c-86d0-babd4f8f1553"
      },
      "outputs": [],
      "source": [
        "df = df.resample('M').sum()"
      ]
    },
    {
      "cell_type": "code",
      "execution_count": 108,
      "id": "3f2287b9-e158-4ac9-b427-9587f06b9a0e",
      "metadata": {
        "colab": {
          "base_uri": "https://localhost:8080/"
        },
        "id": "3f2287b9-e158-4ac9-b427-9587f06b9a0e",
        "outputId": "7da5a714-37aa-467a-8ff2-1452c46a8c04"
      },
      "outputs": [
        {
          "output_type": "execute_result",
          "data": {
            "text/plain": [
              "Quantity    0\n",
              "CP          0\n",
              "SP          0\n",
              "Profit      0\n",
              "dtype: int64"
            ]
          },
          "metadata": {},
          "execution_count": 108
        }
      ],
      "source": [
        "df.isna().sum()"
      ]
    },
    {
      "cell_type": "markdown",
      "id": "9946e207-b56c-494e-9fd9-d39a3fe7727c",
      "metadata": {
        "id": "9946e207-b56c-494e-9fd9-d39a3fe7727c"
      },
      "source": [
        "This dataset being forged, obviously contains no missing values<br>\n",
        "If this code is to be deployed into production, we should perform a nan-value check, and fill any occurance with a rolling mean, with a window of 7day or a month."
      ]
    },
    {
      "cell_type": "markdown",
      "id": "5e7a697d-8417-4bec-9dc2-0dbefafea667",
      "metadata": {
        "id": "5e7a697d-8417-4bec-9dc2-0dbefafea667"
      },
      "source": [
        "### Checking for stationarity"
      ]
    },
    {
      "cell_type": "code",
      "execution_count": 110,
      "id": "7f9eaf18-f0c9-4a11-aa5f-738b2280369a",
      "metadata": {
        "colab": {
          "base_uri": "https://localhost:8080/"
        },
        "id": "7f9eaf18-f0c9-4a11-aa5f-738b2280369a",
        "outputId": "c7ef4ee9-2eeb-4d4f-9d00-7f3b4b6154d3"
      },
      "outputs": [
        {
          "output_type": "stream",
          "name": "stdout",
          "text": [
            "ADF Statistic: -2.6207866816151117\n",
            "p-value: 0.08877673394864649\n",
            "No. of lags used: 9\n",
            "No. of observations used : 15\n"
          ]
        }
      ],
      "source": [
        "from statsmodels.tsa.stattools import adfuller\n",
        "adf_result = adfuller(df[\"Profit\"])\n",
        "\n",
        "print(f'ADF Statistic: {adf_result[0]}')\n",
        "print(f'p-value: {adf_result[1]}')\n",
        "print(f'No. of lags used: {adf_result[2]}')\n",
        "print(f'No. of observations used : {adf_result[3]}')"
      ]
    },
    {
      "cell_type": "markdown",
      "id": "b8e51ed5-76f8-4955-9c21-6dfe8c1a4fc1",
      "metadata": {
        "id": "b8e51ed5-76f8-4955-9c21-6dfe8c1a4fc1"
      },
      "source": [
        "Our data is NOT stationary\n",
        "This should be nested in a check that doesn't involve manual inspection"
      ]
    },
    {
      "cell_type": "code",
      "source": [
        "import statsmodels.api as sm\n",
        "from pylab import rcParams\n",
        "rcParams[\"figure.figsize\"] = (15,8)"
      ],
      "metadata": {
        "id": "QzSJOoBcEaWc"
      },
      "id": "QzSJOoBcEaWc",
      "execution_count": 114,
      "outputs": []
    },
    {
      "cell_type": "code",
      "source": [
        "plt.plot(df['Order Date'], df['Profit'])\n",
        "plt.show()"
      ],
      "metadata": {
        "colab": {
          "base_uri": "https://localhost:8080/",
          "height": 483
        },
        "id": "UZfNBXm6F-Zs",
        "outputId": "d0e9465d-b06b-4270-bf8d-328be6e610b1"
      },
      "id": "UZfNBXm6F-Zs",
      "execution_count": 126,
      "outputs": [
        {
          "output_type": "display_data",
          "data": {
            "text/plain": [
              "<Figure size 1080x576 with 1 Axes>"
            ],
            "image/png": "[encoded data removed]"
          },
          "metadata": {
            "needs_background": "light"
          }
        }
      ]
    },
    {
      "cell_type": "code",
      "source": [
        "decompose_series = sm.tsa.seasonal_decompose(df[ 'Profit' ], model= 'additive' )\n",
        "decompose_series.plot()\n",
        "plt.show()"
      ],
      "metadata": {
        "colab": {
          "base_uri": "https://localhost:8080/",
          "height": 585
        },
        "id": "YDHGO-ykEhIG",
        "outputId": "027db562-3457-49a4-cf8c-a3d382c21f06"
      },
      "id": "YDHGO-ykEhIG",
      "execution_count": 113,
      "outputs": [
        {
          "output_type": "display_data",
          "data": {
            "text/plain": [
              "<Figure size 1080x576 with 4 Axes>"
            ],
            "image/png": "[encoded data removed]"
          },
          "metadata": {
            "needs_background": "light"
          }
        }
      ]
    },
    {
      "cell_type": "markdown",
      "id": "d223cff1-5be8-470d-8a4c-f5d92fd7db99",
      "metadata": {
        "id": "d223cff1-5be8-470d-8a4c-f5d92fd7db99"
      },
      "source": [
        "### Forcasting"
      ]
    },
    {
      "cell_type": "code",
      "source": [
        "df.reset_index(inplace=True)"
      ],
      "metadata": {
        "id": "cjockO3nFHk0"
      },
      "id": "cjockO3nFHk0",
      "execution_count": 115,
      "outputs": []
    },
    {
      "cell_type": "code",
      "execution_count": 116,
      "id": "e1a2b87a-0d74-4266-829e-1c964a43f0b6",
      "metadata": {
        "colab": {
          "base_uri": "https://localhost:8080/",
          "height": 206
        },
        "id": "e1a2b87a-0d74-4266-829e-1c964a43f0b6",
        "outputId": "b05382ee-2095-4fcd-9dee-c611358cb381"
      },
      "outputs": [
        {
          "output_type": "execute_result",
          "data": {
            "text/plain": [
              "          ds          y\n",
              "0 2020-05-31  160805.95\n",
              "1 2020-06-30  157432.47\n",
              "2 2020-07-31  156651.02\n",
              "3 2020-08-31  161217.99\n",
              "4 2020-09-30  152902.32"
            ],
            "text/html": [
              "\n",
              "  <div id=\"df-8e2e58e0-225e-461f-bb5f-d0d35f8696dd\">\n",
              "    <div class=\"colab-df-container\">\n",
              "      <div>\n",
              "<style scoped>\n",
              "    .dataframe tbody tr th:only-of-type {\n",
              "        vertical-align: middle;\n",
              "    }\n",
              "\n",
              "    .dataframe tbody tr th {\n",
              "        vertical-align: top;\n",
              "    }\n",
              "\n",
              "    .dataframe thead th {\n",
              "        text-align: right;\n",
              "    }\n",
              "</style>\n",
              "<table border=\"1\" class=\"dataframe\">\n",
              "  <thead>\n",
              "    <tr style=\"text-align: right;\">\n",
              "      <th></th>\n",
              "      <th>ds</th>\n",
              "      <th>y</th>\n",
              "    </tr>\n",
              "  </thead>\n",
              "  <tbody>\n",
              "    <tr>\n",
              "      <th>0</th>\n",
              "      <td>2020-05-31</td>\n",
              "      <td>160805.95</td>\n",
              "    </tr>\n",
              "    <tr>\n",
              "      <th>1</th>\n",
              "      <td>2020-06-30</td>\n",
              "      <td>157432.47</td>\n",
              "    </tr>\n",
              "    <tr>\n",
              "      <th>2</th>\n",
              "      <td>2020-07-31</td>\n",
              "      <td>156651.02</td>\n",
              "    </tr>\n",
              "    <tr>\n",
              "      <th>3</th>\n",
              "      <td>2020-08-31</td>\n",
              "      <td>161217.99</td>\n",
              "    </tr>\n",
              "    <tr>\n",
              "      <th>4</th>\n",
              "      <td>2020-09-30</td>\n",
              "      <td>152902.32</td>\n",
              "    </tr>\n",
              "  </tbody>\n",
              "</table>\n",
              "</div>\n",
              "      <button class=\"colab-df-convert\" onclick=\"convertToInteractive('df-8e2e58e0-225e-461f-bb5f-d0d35f8696dd')\"\n",
              "              title=\"Convert this dataframe to an interactive table.\"\n",
              "              style=\"display:none;\">\n",
              "        \n",
              "  <svg xmlns=\"http://www.w3.org/2000/svg\" height=\"24px\"viewBox=\"0 0 24 24\"\n",
              "       width=\"24px\">\n",
              "    <path d=\"M0 0h24v24H0V0z\" fill=\"none\"/>\n",
              "    <path d=\"M18.56 5.44l.94 2.06.94-2.06 2.06-.94-2.06-.94-.94-2.06-.94 2.06-2.06.94zm-11 1L8.5 8.5l.94-2.06 2.06-.94-2.06-.94L8.5 2.5l-.94 2.06-2.06.94zm10 10l.94 2.06.94-2.06 2.06-.94-2.06-.94-.94-2.06-.94 2.06-2.06.94z\"/><path d=\"M17.41 7.96l-1.37-1.37c-.4-.4-.92-.59-1.43-.59-.52 0-1.04.2-1.43.59L10.3 9.45l-7.72 7.72c-.78.78-.78 2.05 0 2.83L4 21.41c.39.39.9.59 1.41.59.51 0 1.02-.2 1.41-.59l7.78-7.78 2.81-2.81c.8-.78.8-2.07 0-2.86zM5.41 20L4 18.59l7.72-7.72 1.47 1.35L5.41 20z\"/>\n",
              "  </svg>\n",
              "      </button>\n",
              "      \n",
              "  <style>\n",
              "    .colab-df-container {\n",
              "      display:flex;\n",
              "      flex-wrap:wrap;\n",
              "      gap: 12px;\n",
              "    }\n",
              "\n",
              "    .colab-df-convert {\n",
              "      background-color: #E8F0FE;\n",
              "      border: none;\n",
              "      border-radius: 50%;\n",
              "      cursor: pointer;\n",
              "      display: none;\n",
              "      fill: #1967D2;\n",
              "      height: 32px;\n",
              "      padding: 0 0 0 0;\n",
              "      width: 32px;\n",
              "    }\n",
              "\n",
              "    .colab-df-convert:hover {\n",
              "      background-color: #E2EBFA;\n",
              "      box-shadow: 0px 1px 2px rgba(60, 64, 67, 0.3), 0px 1px 3px 1px rgba(60, 64, 67, 0.15);\n",
              "      fill: #174EA6;\n",
              "    }\n",
              "\n",
              "    [theme=dark] .colab-df-convert {\n",
              "      background-color: #3B4455;\n",
              "      fill: #D2E3FC;\n",
              "    }\n",
              "\n",
              "    [theme=dark] .colab-df-convert:hover {\n",
              "      background-color: #434B5C;\n",
              "      box-shadow: 0px 1px 3px 1px rgba(0, 0, 0, 0.15);\n",
              "      filter: drop-shadow(0px 1px 2px rgba(0, 0, 0, 0.3));\n",
              "      fill: #FFFFFF;\n",
              "    }\n",
              "  </style>\n",
              "\n",
              "      <script>\n",
              "        const buttonEl =\n",
              "          document.querySelector('#df-8e2e58e0-225e-461f-bb5f-d0d35f8696dd button.colab-df-convert');\n",
              "        buttonEl.style.display =\n",
              "          google.colab.kernel.accessAllowed ? 'block' : 'none';\n",
              "\n",
              "        async function convertToInteractive(key) {\n",
              "          const element = document.querySelector('#df-8e2e58e0-225e-461f-bb5f-d0d35f8696dd');\n",
              "          const dataTable =\n",
              "            await google.colab.kernel.invokeFunction('convertToInteractive',\n",
              "                                                     [key], {});\n",
              "          if (!dataTable) return;\n",
              "\n",
              "          const docLinkHtml = 'Like what you see? Visit the ' +\n",
              "            '<a target=\"_blank\" href=https://colab.research.google.com/notebooks/data_table.ipynb>data table notebook</a>'\n",
              "            + ' to learn more about interactive tables.';\n",
              "          element.innerHTML = '';\n",
              "          dataTable['output_type'] = 'display_data';\n",
              "          await google.colab.output.renderOutput(dataTable, element);\n",
              "          const docLink = document.createElement('div');\n",
              "          docLink.innerHTML = docLinkHtml;\n",
              "          element.appendChild(docLink);\n",
              "        }\n",
              "      </script>\n",
              "    </div>\n",
              "  </div>\n",
              "  "
            ]
          },
          "metadata": {},
          "execution_count": 116
        }
      ],
      "source": [
        "df_univar = df[[\"Order Date\", \"Profit\"]].rename(columns={\"Order Date\":\"ds\", \"Profit\":\"y\"})\n",
        "df_univar.head()"
      ]
    },
    {
      "cell_type": "code",
      "execution_count": 84,
      "id": "ee507be2-a8b2-407a-984a-be45aedf9767",
      "metadata": {
        "id": "ee507be2-a8b2-407a-984a-be45aedf9767"
      },
      "outputs": [],
      "source": [
        "from fbprophet import Prophet"
      ]
    },
    {
      "cell_type": "code",
      "execution_count": 117,
      "id": "12dee7bc-1549-4d0c-85db-f9fb102e5e18",
      "metadata": {
        "id": "12dee7bc-1549-4d0c-85db-f9fb102e5e18"
      },
      "outputs": [],
      "source": [
        "# 70-30 Train-Test split\n",
        "train_size = int(df_univar.shape[0] * 0.7)\n",
        "\n",
        "df_train = df_univar.iloc[:train_size]\n",
        "df_test = df_univar.iloc[train_size:]\n",
        "\n",
        "\n",
        "assert df_univar.shape[0] == df_train.shape[0] + df_test.shape[0]"
      ]
    },
    {
      "cell_type": "code",
      "source": [
        "model = Prophet()\n",
        "model.fit(df_train)"
      ],
      "metadata": {
        "colab": {
          "base_uri": "https://localhost:8080/"
        },
        "id": "wWjW1WQ4zwI4",
        "outputId": "24a1b937-b7e5-41f6-eeee-e075e8a2799f"
      },
      "id": "wWjW1WQ4zwI4",
      "execution_count": 118,
      "outputs": [
        {
          "output_type": "stream",
          "name": "stderr",
          "text": [
            "INFO:fbprophet:Disabling yearly seasonality. Run prophet with yearly_seasonality=True to override this.\n",
            "INFO:fbprophet:Disabling weekly seasonality. Run prophet with weekly_seasonality=True to override this.\n",
            "INFO:fbprophet:Disabling daily seasonality. Run prophet with daily_seasonality=True to override this.\n",
            "INFO:fbprophet:n_changepoints greater than number of observations. Using 12.\n"
          ]
        },
        {
          "output_type": "execute_result",
          "data": {
            "text/plain": [
              "<fbprophet.forecaster.Prophet at 0x7f2f768780d0>"
            ]
          },
          "metadata": {},
          "execution_count": 118
        }
      ]
    },
    {
      "cell_type": "code",
      "source": [
        "# Prediction for the next months\n",
        "periods_to_predict = df_test.shape[0]\n",
        "future_dates = model.make_future_dataframe(periods=periods_to_predict, freq='M')\n",
        "\n",
        "assert df_univar.shape[0] == future_dates.shape[0]\n",
        "\n",
        "forecast = model.predict(future_dates)"
      ],
      "metadata": {
        "id": "EO8Dbm_U1NNE"
      },
      "id": "EO8Dbm_U1NNE",
      "execution_count": 123,
      "outputs": []
    },
    {
      "cell_type": "code",
      "source": [
        "model.plot(forecast)\n",
        "plt.show"
      ],
      "metadata": {
        "colab": {
          "base_uri": "https://localhost:8080/",
          "height": 458
        },
        "id": "0Rsw3oLV1zuz",
        "outputId": "6238c70e-2cb6-4814-cdd8-d081f97e1fd6"
      },
      "id": "0Rsw3oLV1zuz",
      "execution_count": 124,
      "outputs": [
        {
          "output_type": "execute_result",
          "data": {
            "text/plain": [
              "<function matplotlib.pyplot.show>"
            ]
          },
          "metadata": {},
          "execution_count": 124
        },
        {
          "output_type": "display_data",
          "data": {
            "text/plain": [
              "<Figure size 720x432 with 1 Axes>"
            ],
            "image/png": "[encoded data removed]"
          },
          "metadata": {}
        }
      ]
    },
    {
      "cell_type": "code",
      "source": [
        "model.plot_components(forecast)\n",
        "plt.show()"
      ],
      "metadata": {
        "colab": {
          "base_uri": "https://localhost:8080/",
          "height": 225
        },
        "id": "sF_k3edKGy5h",
        "outputId": "bd3bfd0a-d07e-490f-fa23-6cebf2cc1ae0"
      },
      "id": "sF_k3edKGy5h",
      "execution_count": 130,
      "outputs": [
        {
          "output_type": "display_data",
          "data": {
            "text/plain": [
              "<Figure size 648x216 with 1 Axes>"
            ],
            "image/png": "[encoded data removed]"
          },
          "metadata": {}
        }
      ]
    },
    {
      "cell_type": "markdown",
      "source": [
        "### Model Evaluation"
      ],
      "metadata": {
        "id": "MXQ8F2AtGOD-"
      },
      "id": "MXQ8F2AtGOD-"
    },
    {
      "cell_type": "code",
      "source": [
        "from sklearn.metrics import mean_absolute_percentage_error\n",
        "import numpy as np\n",
        "\n",
        "y_pred = forecast[[\"yhat\"]].iloc[train_size:]\n",
        "y_test = df_test[\"y\"]"
      ],
      "metadata": {
        "id": "hPvlTLHt1Of6"
      },
      "id": "hPvlTLHt1Of6",
      "execution_count": null,
      "outputs": []
    },
    {
      "cell_type": "code",
      "source": [
        "MAPE = mean_absolute_percentage_error(y_test, y_pred)\n",
        "print(f'MAPE {round(MAPE, 2)}')"
      ],
      "metadata": {
        "id": "OKNshNSGGR0g"
      },
      "id": "OKNshNSGGR0g",
      "execution_count": null,
      "outputs": []
    },
    {
      "cell_type": "code",
      "source": [
        ""
      ],
      "metadata": {
        "id": "QieQ7mWyGRqc"
      },
      "id": "QieQ7mWyGRqc",
      "execution_count": null,
      "outputs": []
    },
    {
      "cell_type": "code",
      "source": [
        ""
      ],
      "metadata": {
        "id": "BlvzAJQ_GRPF"
      },
      "id": "BlvzAJQ_GRPF",
      "execution_count": null,
      "outputs": []
    }
  ],
  "metadata": {
    "kernelspec": {
      "display_name": "Python 3",
      "language": "python",
      "name": "python3"
    },
    "language_info": {
      "codemirror_mode": {
        "name": "ipython",
        "version": 3
      },
      "file_extension": ".py",
      "mimetype": "text/x-python",
      "name": "python",
      "nbconvert_exporter": "python",
      "pygments_lexer": "ipython3",
      "version": "3.9.1"
    },
    "colab": {
      "name": "salesforcasting.ipynb",
      "provenance": []
    }
  },
  "nbformat": 4,
  "nbformat_minor": 5
}